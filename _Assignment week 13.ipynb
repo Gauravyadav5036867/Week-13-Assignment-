{
 "cells": [
  {
   "cell_type": "code",
   "execution_count": null,
   "id": "3ea67f61-1d8c-406a-b6ed-bec58a754a5d",
   "metadata": {},
   "outputs": [],
   "source": [
    "#Question 1\n",
    "\n",
    "The Filter method in feature selection is a technique used to select features (or variables) from a dataset based on their statistical properties. It involves evaluating each feature independently of the others and assigning a score to each feature. Features with higher scores are considered more relevant or informative for the task at hand and are thus selected for further analysis, while features with lower scores are discarded.\n",
    " \n",
    "It works as follow:\n",
    "    1. Feature Scoring\n",
    "    2. Ranking\n",
    "    3. Selection Threshold \n",
    "    4. Feature Subset Selection\n"
   ]
  },
  {
   "cell_type": "code",
   "execution_count": null,
   "id": "115d7ffa-af7e-49e9-853b-ff87114b5a75",
   "metadata": {},
   "outputs": [],
   "source": [
    "#Question 2\n",
    "The Wrapper method differs from the Filter method in feature selection primarily in how it evaluates feature subsets and makes selections. While the Filter method evaluates features independently of each other based on their statistical properties, the Wrapper method evaluates subsets of features by training and testing models using different combinations of features. "
   ]
  },
  {
   "cell_type": "code",
   "execution_count": null,
   "id": "f95531d0-4187-43ec-a103-05b2ef35b336",
   "metadata": {},
   "outputs": [],
   "source": [
    "#Question 3\n",
    "Embedded feature selection methods incorporate feature selection as part of the model training process. These techniques embed feature selection directly into the model construction, allowing the model to automatically select the most relevant features during training. \n",
    "Some common techniques are used:\n",
    "1.Chi-square Test.\n",
    "2. Fisher's Score.\n",
    "3. Mean Absolute Difference (MAD)\n",
    "4. Forward Feature Selection. \n",
    "5. Exhaustive Feature Selection. \n",
    "6. Recursive Feature Elimination. \n",
    "7. LASSO Regularization (L1)"
   ]
  },
  {
   "cell_type": "code",
   "execution_count": null,
   "id": "4a055aa9-07d9-45e8-96d3-e83217b52f39",
   "metadata": {},
   "outputs": [],
   "source": [
    "#Question 4\n",
    "While the Filter method for feature selection has its advantages, it also comes with several drawbacks:\n",
    "    1.Independence Assumption\n",
    "    2.Limited to Statistical Properties\n",
    "    3.Selection Bias\n",
    "    4.Inability to Capture Interaction Effects\n",
    "    5.Insensitive to Model Performance\n",
    "    6.Difficulty in Handling Redundancy\n",
    "    "
   ]
  },
  {
   "cell_type": "code",
   "execution_count": null,
   "id": "bf8e1772-14bd-4e5d-a19a-95484d88e657",
   "metadata": {},
   "outputs": [],
   "source": [
    "#Question 5\n",
    "e choice between using the Filter method and the Wrapper method for feature selection depends on various factors, including the characteristics of the dataset, the computational resources available, and the specific requirements of the task.\n",
    "Some situations where you might prefer using the Filter method over the Wrapper method for feature selection:\n",
    "    1.Large Datasets\n",
    "    2.High-Dimensional Data\n",
    "    3.Preprocessing or Exploratory Analysis\n",
    "    4.Interpretability\n",
    "    5.Stability and Consistency\n",
    "    6.Baseline Feature Selection\n",
    "    \n"
   ]
  },
  {
   "cell_type": "code",
   "execution_count": null,
   "id": "95fb347e-ffb6-4ded-8814-3cb02635a26b",
   "metadata": {},
   "outputs": [],
   "source": [
    "#Question 6\n",
    "o choose the most pertinent attributes for the customer churn predictive model using the Filter Method in the context of a telecom company.\n",
    "I would follow following steps:\n",
    "    1.Understand the Problem\n",
    "    2.Explore the Dataset\n",
    "    3.Define Evaluation Metric\n",
    "    4.Feature Scoring\n",
    "    5.Ranking Features\n",
    "    6.Set Selection Threshold\n",
    "    7.Feature Subset Selection\n",
    "    8.Model Building and Evaluation\n",
    "    9.Iterate and Refine\n",
    "    10.Finalize Model\n",
    "    \n",
    "    "
   ]
  },
  {
   "cell_type": "code",
   "execution_count": null,
   "id": "43016c33-7e3b-442d-bea6-822e2fadd779",
   "metadata": {},
   "outputs": [],
   "source": [
    "#Question 7\n",
    "In the context of predicting the outcome of a soccer match using an Embedded method for feature selection, you would typically follow these steps:\n",
    "    1.Data Preprocessing\n",
    "    2.Feature Engineering\n",
    "    3.Model Selection\n",
    "    4.Embedded Feature Selection\n",
    "    5.Train the Model\n",
    "    6.Evaluate Model Performance\n",
    "    7.Iterate and Refine\n",
    "    8.Finalize Model\n",
    "    "
   ]
  },
  {
   "cell_type": "code",
   "execution_count": null,
   "id": "c7d3b8af-ecc1-4d6c-98e3-bb9c8e48ffee",
   "metadata": {},
   "outputs": [],
   "source": [
    "#Question 8\n",
    "\n",
    "To select the best set of features for predicting the price of a house using the Wrapper method, you can follow these steps:\n",
    "    1.Define Evaluation Metric\n",
    "    2.Choose a Model\n",
    "    3.Feature Subset Search Strategy\n",
    "    4.Model Training and Evaluation\n",
    "    5.Select Best Feature SubsetRefinement and Validation\n",
    "    6.Refinement and Validation\n",
    "    "
   ]
  }
 ],
 "metadata": {
  "kernelspec": {
   "display_name": "Python 3 (ipykernel)",
   "language": "python",
   "name": "python3"
  },
  "language_info": {
   "codemirror_mode": {
    "name": "ipython",
    "version": 3
   },
   "file_extension": ".py",
   "mimetype": "text/x-python",
   "name": "python",
   "nbconvert_exporter": "python",
   "pygments_lexer": "ipython3",
   "version": "3.10.8"
  }
 },
 "nbformat": 4,
 "nbformat_minor": 5
}
